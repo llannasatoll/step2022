{
 "cells": [
  {
   "cell_type": "markdown",
   "id": "5c790a3f",
   "metadata": {},
   "source": [
    "# step2022 -week4-\n",
    "\n",
    "# PageRankの実装"
   ]
  },
  {
   "cell_type": "markdown",
   "id": "ea95162e",
   "metadata": {},
   "source": [
    "### 1. 考え方\n",
    "\n",
    "あるページから次のページへの遷移は、ページ内のリンクをクリックすることで行われることが多いが、ある一定の確率(今回は15%)で、ランダムなアクセスが行われると言われている。そこで、以下のように実装を行う。\n",
    "\n",
    "\n",
    "1. 全てのノードに適当にスコアを与える。\n",
    "\n",
    "2. 各頂点のスコアの85%を、隣接するノードに等分して分配する。また、ランダムなアクセスとして、15%のスコアを全てのノードに等分して分配する。<br>\n",
    "(隣接するノードがない場合、任意のノードに等確率で遷移するものとして、スコアを全てのノードに等分して分配する。)\n",
    "3. 2を各ノードのスコアが変化しなくなるまで繰り返す。"
   ]
  },
  {
   "cell_type": "markdown",
   "id": "e8cdbd44",
   "metadata": {},
   "source": [
    "まずは小さいファイル（links_small.txt, pages_small.txt）で実装"
   ]
  },
  {
   "cell_type": "code",
   "execution_count": 1,
   "id": "8b225ae5",
   "metadata": {},
   "outputs": [],
   "source": [
    "#各ファイルの読み込み\n",
    "id_to_title = {}\n",
    "id_to_nextIDs = {}\n",
    "\n",
    "pages_data = \"data/pages_small.txt\"\n",
    "links_data = \"data/links_small.txt\"\n",
    "\n",
    "with open(pages_data) as f:\n",
    "    for data in f.read().splitlines():\n",
    "        page = data.split(\"\\t\")\n",
    "        id_to_title[page[0]] = page[1]\n",
    "\n",
    "with open(links_data) as f:\n",
    "    for data in f.read().splitlines():\n",
    "        link = data.split(\"\\t\")\n",
    "        if link[0] in id_to_nextIDs:\n",
    "            id_to_nextIDs[link[0]].add(link[1])\n",
    "        else:\n",
    "            id_to_nextIDs[link[0]] = {link[1]}\n",
    "\n",
    "            \n",
    "#行列の計算で都合が良くなるよう、ID=>indexの辞書を作成\n",
    "id_to_index = {}\n",
    "\n",
    "for i, Id in enumerate(id_to_title.keys()):\n",
    "    id_to_index[Id] = i"
   ]
  },
  {
   "cell_type": "markdown",
   "id": "69016565",
   "metadata": {},
   "source": [
    "### 2. スコアを分け与える割合の行列を作る\n",
    "\n",
    "1. ノードの個数をNとしたときに、行列Aを以下のように定める。\n",
    "\n",
    "    $A=\\begin{pmatrix}\n",
    "    a_{11} & \\cdots & a_{1j} & \\cdots & a_{1N}\\\\\n",
    "    \\vdots & \\ddots & & & \\vdots \\\\\n",
    "    a_{i1} & & a_{ij} & & a_{N} \\\\\n",
    "    \\vdots & & & \\ddots & \\vdots \\\\\n",
    "    a_{N1} & \\cdots & a_{Nj} & \\cdots & a_{NN}\n",
    "    \\end{pmatrix}$\n",
    "\n",
    "    ($a_{ij}$はノードiからノードjへ繋がっていたら1、そうでなければ0)\n",
    "<br>\n",
    "2. Aの各行の値を合計値で割り、各行の値の合計を1にする。\n",
    "<br>\n",
    "3. 行の合計値が0(隣接するノードがない)の場合は1/Nで埋める。\n",
    "<br>\n",
    "4. 1,2,3で施した行列を$B$、全ての成分が1/Nの行列を$I$とすると、<br>\n",
    "リンクをたどったアクセスが $0.85*B$<br>ランダムなアクセスが $0.15*I$<br>\n",
    "となるので、スコアを分け与える割合の行列Cは、以下のように表せる。\n",
    "\n",
    "    $C=0.85*B + 0.15*I$"
   ]
  },
  {
   "cell_type": "code",
   "execution_count": 2,
   "id": "fb739490",
   "metadata": {},
   "outputs": [],
   "source": [
    "import numpy as np\n",
    "\n",
    "p = 0.85\n",
    "N = len(id_to_title)\n",
    "A = np.zeros((N,N))\n",
    "B = np.zeros((N,N))\n",
    "C = np.zeros((N,N))\n",
    "I = np.ones((N,N))/N\n",
    "\n",
    "#1\n",
    "for Id, lst in id_to_nextIDs.items():\n",
    "    for nextId in lst:\n",
    "        A[id_to_index[Id]][id_to_index[nextId]] = 1\n",
    "        \n",
    "        \n",
    "#2, 3\n",
    "for i in range(N):\n",
    "    if sum(A[i]) == 0:\n",
    "        B[i][:] = 1/N\n",
    "    else:\n",
    "        B[i] = A[i]/sum(A[i])\n",
    "        \n",
    "\n",
    "#4\n",
    "C = p*B + (1-p)*I"
   ]
  },
  {
   "cell_type": "markdown",
   "id": "4506413c",
   "metadata": {},
   "source": [
    "### 3. 各頂点のスコアを求める\n",
    "\n",
    "各頂点のスコアの行列(1×N)と、上で求めた行列(N×N)をかけることで、分配終了後のスコアの行列(1×N)を求める。"
   ]
  },
  {
   "cell_type": "code",
   "execution_count": 3,
   "id": "aded5078",
   "metadata": {},
   "outputs": [
    {
     "name": "stdout",
     "output_type": "stream",
     "text": [
      "国際宇宙ステーション : 3.182113724306706\n",
      "歩道 : 2.6672523285488507\n",
      "道路交通法 : 2.6672523285488507\n",
      "環境 : 2.326552476337514\n",
      "コンピュータ : 2.0335826541913935\n",
      "人工知能 : 1.574944965522764\n",
      "Google : 1.5161374187676924\n",
      "ロボット : 1.3745001564855908\n",
      "量子コンピュータ : 1.2349757126136278\n",
      "Android : 1.160448362741174\n",
      "ゲーム : 1.0766798452690842\n",
      "昆虫 : 0.7402493261182769\n",
      "じゃんけん : 0.7069951839478356\n",
      "健康 : 0.6773989923420302\n",
      "パワードスーツ : 0.6136692226630455\n",
      "カレー : 0.5758299349338931\n",
      "セグウェイ : 0.5260682210289404\n",
      "学習 : 0.5025207207675894\n",
      "情報 : 0.5025207207675894\n",
      "ロボット工学三原則 : 0.4781744329341551\n",
      "深海 : 0.4781744329341551\n",
      "カメラ : 0.4756704471098385\n",
      "アイスクリーム : 0.4756704471098385\n",
      "キットカット : 0.4756704471098385\n",
      "タイムマシン : 0.40069221727244875\n",
      "和歌 : 0.31125105592545466\n",
      "ツキノワグマ : 0.31125105592545466\n",
      "東京 : 0.31125105592545466\n",
      "ラーメン : 0.3112510559254546\n",
      "おにぎり : 0.3112510559254546\n"
     ]
    }
   ],
   "source": [
    "#元のスコアは全て1\n",
    "score = np.ones((N))\n",
    "\n",
    "#30ラウンド回した後のスコアが高い順に出力\n",
    "for i in range(30):\n",
    "    score = score@C\n",
    "    \n",
    "lst = [[id_to_title[i], score[id_to_index[i]]] for i in id_to_title.keys()]\n",
    "for pair in sorted(lst, key=lambda x: x[1], reverse=True):\n",
    "    print(f\"{pair[0]} : {pair[1]}\")"
   ]
  }
 ],
 "metadata": {
  "kernelspec": {
   "display_name": "Python 3 (ipykernel)",
   "language": "python",
   "name": "python3"
  },
  "language_info": {
   "codemirror_mode": {
    "name": "ipython",
    "version": 3
   },
   "file_extension": ".py",
   "mimetype": "text/x-python",
   "name": "python",
   "nbconvert_exporter": "python",
   "pygments_lexer": "ipython3",
   "version": "3.9.12"
  }
 },
 "nbformat": 4,
 "nbformat_minor": 5
}
