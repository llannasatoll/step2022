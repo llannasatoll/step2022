{
 "cells": [
  {
   "cell_type": "markdown",
   "id": "cbbbbf57",
   "metadata": {},
   "source": [
    "# Step -week4-"
   ]
  },
  {
   "cell_type": "markdown",
   "id": "56914f21",
   "metadata": {},
   "source": [
    "## Wikipediaのグラフを使ってなにか面白いことをしてみよう"
   ]
  },
  {
   "cell_type": "markdown",
   "id": "ca8aae9c",
   "metadata": {},
   "source": [
    "今回は、\n",
    "\n",
    "- 孤立しているページ\n",
    "- 2つ以上で輪が完成している（それ以外のページからはアクセスできない）ページたち\n",
    "\n",
    "を探してみる。"
   ]
  },
  {
   "cell_type": "markdown",
   "id": "b178e049",
   "metadata": {},
   "source": [
    "### 1. 各ファイルの読み込み、辞書の作成\n",
    "\n",
    "ファイルサイズが大きく、辞書を作るのに時間がかかってしまうため、元の`links.txt`から以下の二つのファイルを作って、辞書の作成を行いました。\n",
    "\n",
    "`links_in.txt`：　(ID)\\t(IDのページへ繋がっているIDのリスト(,区切り))\n",
    "\n",
    "`links_out.txt`：　(ID)\\t(IDのページから繋がっているIDのリスト(,区切り))"
   ]
  },
  {
   "cell_type": "code",
   "execution_count": 1,
   "id": "f51f79a3",
   "metadata": {},
   "outputs": [],
   "source": [
    "id_to_title = {}\n",
    "in_links= {} #自分のページ => 自分のページへと繋がっているページのIDのリスト\n",
    "out_links = {} #自分のページ => 自分のページから繋がっているページのIDのリスト\n",
    "\n",
    "with open(\"data/pages.txt\") as f:\n",
    "    for data in f.read().splitlines():\n",
    "        page = data.split(\"\\t\")\n",
    "        id_to_title[int(page[0])] = page[1]\n",
    "\n",
    "with open(\"data/links_in.txt\") as f:\n",
    "    for data in f.read().splitlines():\n",
    "        link = data.split(\"\\t\")\n",
    "        in_links[int(link[0])] = [int(i) for i in link[1].split(\",\")]\n",
    "\n",
    "with open(\"data/links_out.txt\") as f:\n",
    "    for data in f.read().splitlines():\n",
    "        link = data.split(\"\\t\")\n",
    "        out_links[int(link[0])] = [int(i) for i in link[1].split(\",\")]"
   ]
  },
  {
   "cell_type": "markdown",
   "id": "b3a2065b",
   "metadata": {},
   "source": [
    "### 2. 繋がっているページ数を数える"
   ]
  },
  {
   "cell_type": "code",
   "execution_count": 2,
   "id": "2658548f",
   "metadata": {},
   "outputs": [],
   "source": [
    "num_of_in = [0] * (len(id_to_title)) #自分のページへと繋がっているページ数\n",
    "num_of_out = [0] * (len(id_to_title)) #自分のページから繋がっているページ数\n",
    "\n",
    "for Id, lst in in_links.items():\n",
    "    num_of_in[Id] = len(lst)\n",
    "    \n",
    "for Id, lst in out_links.items():\n",
    "    num_of_out[Id] = len(lst)\n",
    "    \n",
    "# (ID, 入ってくるページ数, 出ていくページ数)のリストを作成\n",
    "count_pages = list(zip(list(range(len(id_to_title))), num_of_in, num_of_out))"
   ]
  },
  {
   "cell_type": "markdown",
   "id": "ea6186e7",
   "metadata": {},
   "source": [
    "### 3. カウントしたリストを使って、色々調べてみる "
   ]
  },
  {
   "cell_type": "code",
   "execution_count": 3,
   "id": "28841d6b",
   "metadata": {},
   "outputs": [
    {
     "name": "stdout",
     "output_type": "stream",
     "text": [
      "【どこともつながっていないページ】（ページ数：1438）\n",
      "\n",
      "ID:  3965 \t テニス選手の一覧\n",
      "ID:  10655 \t 成人後見\n",
      "ID:  17000 \t インダストリア\n",
      "ID:  17002 \t ハイハーバー\n",
      "ID:  19818 \t 9600形\n",
      "ID:  19824 \t 9600型\n",
      "ID:  21105 \t 京急800形\n",
      "ID:  26834 \t 円周率近似値の日\n",
      "ID:  27197 \t 京急600形\n",
      "ID:  27200 \t 京急700形\n",
      "...\n"
     ]
    }
   ],
   "source": [
    "isolated = []\n",
    "\n",
    "for (Id, in_, out_) in count_pages: #inもoutも0個だったら孤立\n",
    "    if in_ == 0 and out_ == 0:\n",
    "        isolated.append(Id)\n",
    "        \n",
    "print(\"【どこともつながっていないページ】（ページ数：%d）\\n\" %len(isolated))\n",
    "for Id in isolated[:10]:\n",
    "    print(\"ID: \", Id, \"\\t\", id_to_title[Id])\n",
    "print(\"...\")"
   ]
  },
  {
   "cell_type": "code",
   "execution_count": 4,
   "id": "b482e30a",
   "metadata": {},
   "outputs": [
    {
     "name": "stdout",
     "output_type": "stream",
     "text": [
      "【自分から自分へのみ繋がってるページ】\n",
      "\n",
      "ID:  1481595 \t エトヴォス\n",
      "\n",
      "\n",
      "【2つでリンクを渡し合っている、かつ、その2つが他とは繋がっていないページ】\n",
      "\n",
      "日本鍍金材料共同組合  <=>  鍍金の世界\n",
      "鍍金の世界  <=>  日本鍍金材料共同組合\n"
     ]
    }
   ],
   "source": [
    "#効率よく調べられるように、まずinとoutが１個のものを集めたリストを作成\n",
    "tmplist = set()\n",
    "for (Id, in_, out_) in count_pages: \n",
    "    if in_ == 1 and out_ == 1:\n",
    "        tmplist.add(Id)\n",
    "        \n",
    "print(\"【自分から自分へのみ繋がってるページ】\\n\")\n",
    "for Id in tmplist:\n",
    "    if Id == in_links[Id][0]:\n",
    "        print(\"ID: \", Id, \"\\t\", id_to_title[Id])\n",
    "        \n",
    "\n",
    "print(\"\\n\")\n",
    "print(\"【2つでリンクを渡し合っている、かつ、その2つが他とは繋がっていないページ】\\n\")\n",
    "for Id in tmplist:\n",
    "    if int(in_links[Id][0]) in tmplist and int(out_links[Id][0]) in tmplist: #自分と繋がっているページも、tmplistに入っているか\n",
    "        if in_links[Id] == out_links[Id]: #入ってくるページも出ていくページも同じか\n",
    "            if Id != in_links[Id][0]: #繋がっている先が自分とは違う\n",
    "                print(id_to_title[Id], \" <=> \", id_to_title[in_links[Id][0]])"
   ]
  },
  {
   "cell_type": "markdown",
   "id": "9bc32ae9",
   "metadata": {},
   "source": [
    "(2つ以上の孤立して輪になっているページたちを見つけたかったのですが、下のように調べたところそもそもループになっているページたちがこれらしかありませんでした…。)"
   ]
  },
  {
   "cell_type": "code",
   "execution_count": 5,
   "id": "e086cd89",
   "metadata": {},
   "outputs": [
    {
     "name": "stdout",
     "output_type": "stream",
     "text": [
      "ID:  1451205 \t 日本鍍金材料共同組合\n",
      "ID:  1451208 \t 鍍金の世界\n",
      "ID:  1481595 \t エトヴォス\n"
     ]
    }
   ],
   "source": [
    "#リンク先を見ていって、最終的に自分に帰ってきたらTrue、そうでなければFalse\n",
    "def isin_tmplist(start, Id):\n",
    "    if start == Id:\n",
    "        return True\n",
    "    \n",
    "    if Id in tmplist:\n",
    "        if isin_tmplist(start, out_links[Id][0]):\n",
    "            return True\n",
    "    return False\n",
    "        \n",
    "for Id in tmplist:\n",
    "    if isin_tmplist(Id, out_links[Id][0]):\n",
    "        print(\"ID: \",Id, \"\\t\", id_to_title[Id])"
   ]
  }
 ],
 "metadata": {
  "kernelspec": {
   "display_name": "Python 3 (ipykernel)",
   "language": "python",
   "name": "python3"
  },
  "language_info": {
   "codemirror_mode": {
    "name": "ipython",
    "version": 3
   },
   "file_extension": ".py",
   "mimetype": "text/x-python",
   "name": "python",
   "nbconvert_exporter": "python",
   "pygments_lexer": "ipython3",
   "version": "3.9.12"
  }
 },
 "nbformat": 4,
 "nbformat_minor": 5
}
