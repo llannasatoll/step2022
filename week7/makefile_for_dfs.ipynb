{
 "cells": [
  {
   "cell_type": "markdown",
   "id": "8e08513d",
   "metadata": {},
   "source": [
    "# Google STEP Class 7 Homework\n",
    "\n",
    "\n",
    "### TSP用のファイル作成\n",
    "\n",
    "辺の長さが短いものだけを採用し、グラフファイルを作成する。\n",
    "\n",
    "1行目 : ノードの数<br>\n",
    "2行目 : 繋がっているリンクの数<br>\n",
    "3行目以降 : i+2行目に、ノードiからたどれるノードのリスト<br>\n",
    "\n",
    "入力 : challengeの数字<br>\n",
    "出力：link_n.txt"
   ]
  },
  {
   "cell_type": "code",
   "execution_count": 1,
   "id": "9a50503a",
   "metadata": {},
   "outputs": [],
   "source": [
    "import math\n",
    "import statistics\n",
    "import copy\n",
    "import numpy as np"
   ]
  },
  {
   "cell_type": "code",
   "execution_count": 2,
   "id": "2dc88c83",
   "metadata": {},
   "outputs": [],
   "source": [
    "def read_input(filename):\n",
    "    with open(filename) as f:\n",
    "        cities = []\n",
    "        for line in f.readlines()[1:]:  # Ignore the first line.\n",
    "            xy = line.split(\",\")\n",
    "            cities.append((float(xy[0]), float(xy[1])))\n",
    "        return cities\n",
    "    \n",
    "def distance(city1, city2):\n",
    "    \"\"\"\n",
    "    2都市間の距離を求める\n",
    "    \"\"\"\n",
    "    return math.sqrt((city1[0] - city2[0]) ** 2 + (city1[1] - city2[1]) ** 2)\n",
    "\n",
    "def make_dist(cities):\n",
    "    \"\"\"\n",
    "    各都市間の座標の距離を計算したリストを作成する。\n",
    "    \"\"\"\n",
    "    N = len(cities)\n",
    "\n",
    "    dist = [[0] * N for i in range(N)]\n",
    "    for i in range(N):\n",
    "        for j in range(i, N):\n",
    "            dist[i][j] = dist[j][i] = distance(cities[i], cities[j])\n",
    "\n",
    "    return dist"
   ]
  },
  {
   "cell_type": "code",
   "execution_count": null,
   "id": "e3282ccc",
   "metadata": {},
   "outputs": [],
   "source": [
    "challenge = int(input())\n",
    "filepath = f\"input_{challenge}.csv\"\n",
    "\n",
    "cities = read_input(filepath)\n",
    "dist = make_dist(cities)\n",
    "\n",
    "N = len(dist)\n",
    "n_links = 6\n",
    "\n",
    "with open(f\"link_{challenge}.txt\", \"w\") as f:\n",
    "    f.write(f\"{N}\\n\")\n",
    "    f.write(f\"{n_links}\\n\")\n",
    "    \n",
    "    for i in range(N):\n",
    "        res = []\n",
    "        tmp_lst = np.argsort(np.array(dist[i]))\n",
    "        string = \",\".join([str(x) for x in tmp_lst[1:n_links+1]]) + \"\\n\"\n",
    "        f.write(string)"
   ]
  }
 ],
 "metadata": {
  "kernelspec": {
   "display_name": "Python 3 (ipykernel)",
   "language": "python",
   "name": "python3"
  },
  "language_info": {
   "codemirror_mode": {
    "name": "ipython",
    "version": 3
   },
   "file_extension": ".py",
   "mimetype": "text/x-python",
   "name": "python",
   "nbconvert_exporter": "python",
   "pygments_lexer": "ipython3",
   "version": "3.9.12"
  }
 },
 "nbformat": 4,
 "nbformat_minor": 5
}
